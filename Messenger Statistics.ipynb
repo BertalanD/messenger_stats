{
 "cells": [
  {
   "cell_type": "code",
   "execution_count": null,
   "metadata": {},
   "outputs": [],
   "source": [
    "import ipywidgets as widgets\n",
    "import charts\n",
    "import stats\n",
    "import zipfile\n",
    "from datetime import datetime"
   ]
  },
  {
   "cell_type": "code",
   "execution_count": null,
   "metadata": {},
   "outputs": [],
   "source": [
    "path_chooser = widgets.Text(\n",
    "    value='test.zip',\n",
    "    description='Path:',\n",
    "    disabled=False\n",
    ")\n",
    "display(path_chooser)"
   ]
  },
  {
   "cell_type": "code",
   "execution_count": null,
   "metadata": {},
   "outputs": [],
   "source": [
    "data = zipfile.ZipFile(path_chooser.value)\n",
    "messages = stats.MessengerStats.from_zip(data)\n",
    "\n",
    "filtered = messages\n",
    "#filtered = filtered.filter_chat_types([\"Regular\", \"RegularGroup\"])\n",
    "#filtered = filtered.filter_date((datetime(year=2020, month=1, day=1), datetime.now()))\n",
    "#filtered = filtered.filter_chats([\"Adam Smith\", \"Eve Smith\"]) # Only show messages/calls/etc. in this/these chats(s)\n",
    "#filtered = filtered.filter_people([\"Adam Smith\"]) # Only show messages/calls/etc. from this/these person/people\n",
    "#filtered = filtered.filter_message_types(\"Generic\")\n",
    "\n",
    "filtered_own = filtered.filter_own_messages().filter_own_calls()"
   ]
  },
  {
   "cell_type": "code",
   "execution_count": null,
   "metadata": {
    "scrolled": false
   },
   "outputs": [],
   "source": [
    "charts.largest_chat(filtered.get_largest_chats(), n=20, kind=\"pie\").update_layout(showlegend=False)"
   ]
  },
  {
   "cell_type": "code",
   "execution_count": null,
   "metadata": {},
   "outputs": [],
   "source": [
    "charts.messages_by_sender(filtered.get_message_count_by_sender(),n=20, kind=\"pie\")"
   ]
  },
  {
   "cell_type": "code",
   "execution_count": null,
   "metadata": {},
   "outputs": [],
   "source": [
    "charts.calls_by_chat(filtered.get_calls_by_chat(), n=10)"
   ]
  },
  {
   "cell_type": "code",
   "execution_count": null,
   "metadata": {},
   "outputs": [],
   "source": [
    "charts.call_duration_by_chat(filtered.get_call_duration_by_chat(), n=10)"
   ]
  },
  {
   "cell_type": "code",
   "execution_count": null,
   "metadata": {},
   "outputs": [],
   "source": [
    "charts.chats_by_participant(filtered.get_chats_by_participant(), n=10)"
   ]
  },
  {
   "cell_type": "code",
   "execution_count": null,
   "metadata": {
    "scrolled": false
   },
   "outputs": [],
   "source": [
    "timed = filtered.index_messages_by_time()\n",
    "charts.message_count_by_year(timed)"
   ]
  },
  {
   "cell_type": "code",
   "execution_count": null,
   "metadata": {},
   "outputs": [],
   "source": [
    "charts.message_count_by_month(timed)"
   ]
  },
  {
   "cell_type": "code",
   "execution_count": null,
   "metadata": {},
   "outputs": [],
   "source": [
    "charts.message_count_by_weekday(timed)"
   ]
  },
  {
   "cell_type": "code",
   "execution_count": null,
   "metadata": {},
   "outputs": [],
   "source": [
    "charts.message_count_by_hour(timed)"
   ]
  },
  {
   "cell_type": "code",
   "execution_count": null,
   "metadata": {
    "scrolled": false
   },
   "outputs": [],
   "source": [
    "charts.messages_by_day_by_chat(filtered.get_messages_by_day_by_chat(), kind=\"bar\")#.update_layout(showlegend=False)"
   ]
  },
  {
   "cell_type": "code",
   "execution_count": null,
   "metadata": {},
   "outputs": [],
   "source": [
    "charts.messages_by_hour_by_chat(filtered_own.get_messages_by_hour_by_chat(), kind=\"line\").update_layout(showlegend=False)"
   ]
  },
  {
   "cell_type": "code",
   "execution_count": null,
   "metadata": {},
   "outputs": [],
   "source": [
    "charts.messages_by_weekday_by_chat(filtered_own.get_messages_by_weekday_by_chat()).update_layout(showlegend=False)"
   ]
  },
  {
   "cell_type": "code",
   "execution_count": null,
   "metadata": {
    "scrolled": false
   },
   "outputs": [],
   "source": [
    "charts.messages_by_hour_of_week_by_chat(filtered_own.get_messages_by_hour_of_week_by_chat(), kind=\"bar\").update_layout(showlegend=False)"
   ]
  },
  {
   "cell_type": "code",
   "execution_count": null,
   "metadata": {
    "scrolled": false
   },
   "outputs": [],
   "source": [
    "charts.messages_by_chat_hourly(filtered_own.get_messages_by_chat_hourly(), kind=\"bar\").update_layout(showlegend=False)"
   ]
  },
  {
   "cell_type": "code",
   "execution_count": null,
   "metadata": {},
   "outputs": [],
   "source": [
    "charts.reaction_counts(filtered_own.get_reaction_counts(), kind=\"pie\")"
   ]
  },
  {
   "cell_type": "code",
   "execution_count": null,
   "metadata": {
    "scrolled": false
   },
   "outputs": [],
   "source": [
    "charts.reactions_by_day(filtered_own.get_reactions_by_day(), kind=\"bar\")"
   ]
  },
  {
   "cell_type": "code",
   "execution_count": null,
   "metadata": {},
   "outputs": [],
   "source": [
    "charts.most_frequent_words(filtered_own.get_most_frequent_words(),min_length=5, n=50)"
   ]
  },
  {
   "cell_type": "code",
   "execution_count": null,
   "metadata": {},
   "outputs": [],
   "source": [
    "charts.top_chats_per_day(filtered_own.get_top_chats_per_day())"
   ]
  },
  {
   "cell_type": "code",
   "execution_count": null,
   "metadata": {},
   "outputs": [],
   "source": []
  }
 ],
 "metadata": {
  "kernelspec": {
   "display_name": "Python 3",
   "language": "python",
   "name": "python3"
  },
  "language_info": {
   "codemirror_mode": {
    "name": "ipython",
    "version": 3
   },
   "file_extension": ".py",
   "mimetype": "text/x-python",
   "name": "python",
   "nbconvert_exporter": "python",
   "pygments_lexer": "ipython3",
   "version": "3.8.1"
  }
 },
 "nbformat": 4,
 "nbformat_minor": 2
}
